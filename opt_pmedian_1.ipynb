{
 "cells": [
  {
   "cell_type": "markdown",
   "metadata": {},
   "source": [
    "# Modelo de Optimización:\n",
    "\n",
    "__Problema:__ Cómo distribuir geográficamente patrullas a partir de una predicción de crimenes para una fecha dada y en una zona específica.\n",
    "\n",
    "Se plantea una solución de Optimización Lineal basada en [Wheeler(2018).](https://www.emerald.com/insight/content/doi/10.1108/PIJPSM-02-2018-0027/full/html?skipTracking=true)\n",
    "\n",
    "Para entender el modelo usamos el siguiente ejemplo, supongamos que tenemos la siguiente predicción:\n",
    "\n",
    "![title](https://raw.githubusercontent.com/jscanass/modeling/master/ej1.png)\n",
    "\n",
    "La solución que se plante es __dividir el mapa__ según las patrullas disponibles y para cada sub-mapa que se genera, asginar una zona como el punto más caliente(base). En este caso lo que se quiere minimizar es el __viaje ponderado total__ entre las áreas según el peso que cada una tenga y las distancias entre las áreas.\n",
    "\n",
    "Para nuestro ejemplo suponemos 2 patrullas para asignar. ¿Cómo queda dividido el mapa?"
   ]
  },
  {
   "cell_type": "code",
   "execution_count": 1,
   "metadata": {},
   "outputs": [],
   "source": [
    "#Ejemplo de Entradas de la función\n",
    "\n",
    "Areas = ['A','B','C','D']\n",
    "Calls = {'A': 4,\n",
    "'B': 1,\n",
    "'C': 2,\n",
    "'D': 3}\n",
    "Distances = {'A': {'A': 0, 'B': 1, 'C': 2, 'D': 3},\n",
    "'B': {'A': 1, 'B': 0, 'C': 1, 'D': 2},\n",
    "'C': {'A': 2, 'B': 1, 'C': 0, 'D': 1},\n",
    "'D': {'A': 3, 'B': 2, 'C': 1, 'D': 0}}\n",
    "Contiguity = {'A': ['B'],\n",
    "'B': ['A','C'],\n",
    "'C': ['B','D'],\n",
    "'D': ['C']}"
   ]
  },
  {
   "cell_type": "code",
   "execution_count": 2,
   "metadata": {},
   "outputs": [],
   "source": [
    "from pulp import * \n",
    "import numpy as np\n",
    "from scipy.spatial import distance"
   ]
  },
  {
   "cell_type": "code",
   "execution_count": 3,
   "metadata": {},
   "outputs": [],
   "source": [
    "TotalBeats = 2 #Sets the number of areas to cluster\n",
    "#This says what the maximum amount of allowable calls in a particular area\n",
    "SumCalls = sum(Calls.values())\n",
    "Disparity = 1.2\n",
    "MaxIneq = (SumCalls/TotalBeats)*(1 + Disparity) #20% disparity allowed"
   ]
  },
  {
   "cell_type": "code",
   "execution_count": 4,
   "metadata": {},
   "outputs": [],
   "source": [
    "#1 set up the problem\n",
    "ChoosePatrol = LpProblem(\"Creating Patrol Areas\",LpMinimize)\n",
    "#2 create decision variables\n",
    "assign_areas = LpVariable.dicts(\"Sources and Destinations\", [(s,d) for s in Areas for d in Areas], lowBound=0, upBound=1, cat=LpInteger)\n",
    "#3 set up the function to minimize\n",
    "ChoosePatrol += lpSum(Distances[s][d]*Calls[d]*assign_areas[(s,d)] for s in Areas for d in Areas), \"Minimize weighted travel\"\n",
    "#4 Constraint - maximum number of beats\n",
    "ChoosePatrol += lpSum(assign_areas[(s,s)] for s in Areas) == TotalBeats, \"Setting Max number of beats\"\n",
    "#5 Constraint - No offbeat if local beat is not assigned\n",
    "for s in Areas:\n",
    "    for d in Areas:\n",
    "        ChoosePatrol += assign_areas[s,d] <= assign_areas[s,s], \"No off-beat if local beat is not assigned, %s %s\" % (s,d)\n",
    "#6 Constraint - every destination area must be covered at least once\n",
    "for d in Areas:\n",
    "    ChoosePatrol += sum(assign_areas[(s,d)] for s in Areas) == 1, \"Destination Area %s must be covered at least once\" % (d)\n",
    "#7 Constraint - no source area should have too high a workload\n",
    "for s in Areas:  \n",
    "    ChoosePatrol += sum(assign_areas[(s,d)]*Calls[d] for d in Areas) <= MaxIneq, \"Source Area %s needs to have less call weight than %s\"% (s,MaxIneq)\n",
    "#8 Constraint - areas need to be contiguous\n",
    "for s in Areas:\n",
    "    for d in Areas:\n",
    "        ChoosePatrol += lpSum(assign_areas[(s,a)] for a in Contiguity[d]) >= assign_areas[(s,d)]\n"
   ]
  },
  {
   "cell_type": "code",
   "execution_count": 5,
   "metadata": {},
   "outputs": [
    {
     "name": "stdout",
     "output_type": "stream",
     "text": [
      "Status is Optimal, The total weighted travel is 3\n"
     ]
    }
   ],
   "source": [
    "ChoosePatrol.solve()\n",
    "print(\"Status is %s, The total weighted travel is %d\" % (LpStatus[ChoosePatrol.status],value(ChoosePatrol.objective)))\n",
    "results = []\n",
    "for s in Areas:\n",
    "    for d in Areas:\n",
    "        if assign_areas[(s,d)].varValue == 1.0:\n",
    "            results.append((s,d,Distances[s][d],Calls[d],Calls[d]*Distances[s][d]))"
   ]
  },
  {
   "cell_type": "code",
   "execution_count": 6,
   "metadata": {},
   "outputs": [
    {
     "data": {
      "text/plain": [
       "[('A', 'A', 0, 4, 0),\n",
       " ('A', 'B', 1, 1, 1),\n",
       " ('D', 'C', 1, 2, 2),\n",
       " ('D', 'D', 0, 3, 0)]"
      ]
     },
     "execution_count": 6,
     "metadata": {},
     "output_type": "execute_result"
    }
   ],
   "source": [
    "# Resultado para cada tupla:\n",
    "# 1: Origen\n",
    "# 2: Destino\n",
    "# 3: Distancia Origen-Destino\n",
    "# 4: Peso del Destino\n",
    "# 5: Viaje Origen-Destino\n",
    "\n",
    "# El viaje ponderado total se calcula \n",
    "# sumando la quinta componente de cada tupla\n",
    "\n",
    "results"
   ]
  },
  {
   "cell_type": "markdown",
   "metadata": {},
   "source": [
    "El resultado obtenido es el siguiente:\n",
    "\n",
    "![title](https://github.com/jscanass/modeling/blob/master/ej1_r.png?raw=true)\n",
    "\n",
    "Entonces nuestras dos zonas quedan así: A, B con base en A y D,C con base en D. La elección de las bases es coherente con el peso de las zonas (las dos más altas) y la división de las zonas coincide con la sumatoria de los pesos por cada área generada. El viaje ponderado se calculó de la siguiente forma: ir de la base A a el destino B pesa 1 mas el viaje entre la base D al destino C que vale 2, para un viaje ponderado total de 3."
   ]
  },
  {
   "cell_type": "code",
   "execution_count": null,
   "metadata": {},
   "outputs": [],
   "source": []
  },
  {
   "cell_type": "markdown",
   "metadata": {},
   "source": [
    "## Función de Optimización:"
   ]
  },
  {
   "cell_type": "code",
   "execution_count": 7,
   "metadata": {},
   "outputs": [],
   "source": [
    "import pulp\n",
    "import networkx\n",
    "#Function to return results for p-median problem\n",
    "#Ar - list of areas\n",
    "#Di - distance dictionary, where Di[s][d] is the distance between source area a and destination d\n",
    "#Co - contiguity dictionary, where Co[a] returns a list of areas adjacent to area a\n",
    "#Ca - call dictionary, for Ca[a] returns the expected number of calls in area a\n",
    "#Ta - total number of areas to partition set into\n",
    "#In - exceptable level of inequality between loads, so passing 0.1 would mean top could have\n",
    "# (Total Calls/Ta)*1.1 total calls in the partitioned area\n",
    "#Th - threshold to consider source to destination as viable decision variables\n",
    "def PMed(Ar,Di,Co,Ca,Ta,In,Th):\n",
    "    #Setting max/min number of calls allowable in a created area\n",
    "    SumCalls = sum(Ca.values())\n",
    "    MaxIneq = (SumCalls/Ta)*(1 + In)\n",
    "    MinIneq = (SumCalls/Ta)*(1 - In)\n",
    "    #Turn contiguity Co into networkx graph\n",
    "    G = networkx.Graph()\n",
    "    for i in Ar:\n",
    "        for j in Co[i]:\n",
    "            G.add_edge(i,j)\n",
    "    #Creating threshold vectors for decision variables\n",
    "    NearAreas = {}\n",
    "    Thresh = []\n",
    "    for s in Ar:\n",
    "        NearAreas[s] = []\n",
    "        for d in Ar:\n",
    "            if Di[s][d] < Th:\n",
    "                Thresh.append((s,d))\n",
    "                NearAreas[s].append(d)\n",
    "    #Set up the problem\n",
    "    P = pulp.LpProblem(\"P-Median\",pulp.LpMinimize)\n",
    "\n",
    "    #Decision variables\n",
    "    assign_areas = pulp.LpVariable.dicts(\"Sources and Destinations\", [(s,d) for (s,d) in Thresh], lowBound=0, upBound=1, cat=pulp.LpInteger)\n",
    "    y_vars = pulp.LpVariable.dicts(\"SourceAreas\", [s for s in Ar], lowBound=0, upBound=1, cat=pulp.LpInteger)\n",
    "    #Function to minimize\n",
    "    P += pulp.lpSum(Ca[d]*Di[s][d]*assign_areas[(s,d)] for (s,d) in Thresh)\n",
    "    #Constraint Max number of beats\n",
    "    P += pulp.lpSum(y_vars[s] for s in Ar) == Ta\n",
    "    #Constraint No offbeat if local beat is not assigned first line\n",
    "    #Second part is contiguity constraint\n",
    "    for (s,d) in Thresh:\n",
    "        P += assign_areas[(s,d)] - y_vars[s] <= 0\n",
    "        #Only do this if source and destination not the same\n",
    "        if s != d:\n",
    "            #Identifying locations contiguous in nearest path\n",
    "            both = set(networkx.shortest_path(G,s,d)) & set(Co[d])\n",
    "            #Or if nearer to source\n",
    "            nearer = [a for a in Co[d] if Di[s][a] < Di[s][d]]\n",
    "            comb = list( both | set(nearer) ) #Combining all nearer areas, should always have at least one\n",
    "            #Contiguity constraint\n",
    "            P += pulp.lpSum(assign_areas[(s,a)] for a in comb if a in NearAreas[s]) >= assign_areas[(s,d)]\n",
    "    #Constraint - every destination area must be covered at least once\n",
    "    #Second line is not too high of workload, third is not too low\n",
    "    for (sl,dl) in zip(Ar,Ar):\n",
    "        P += pulp.lpSum(assign_areas[(s,dl)] for s in NearAreas[dl]) == 1\n",
    "        P += pulp.lpSum(assign_areas[(sl,d)]*Ca[d] for d in NearAreas[sl]) <= MaxIneq\n",
    "        P += pulp.lpSum(assign_areas[(sl,d)]*Ca[d] for d in NearAreas[sl]) >= MinIneq*y_vars[sl]\n",
    "    #solve the model, note if you do not have CPLEX change this to whatever solver you want\n",
    "    P.solve()\n",
    "    stat = pulp.LpStatus[P.status]\n",
    "    if stat != \"Optimal\":\n",
    "        print(\"Status is %s\" % (stat))\n",
    "        return stat\n",
    "    else:\n",
    "        print(\"Status is %s, The total weighted travel is %d\" % (stat,pulp.value(P.objective)))\n",
    "        results = []\n",
    "        for (s,d) in Thresh:\n",
    "            if assign_areas[(s,d)].varValue == 1.0:\n",
    "                results.append((s,d,Di[s][d],Ca[d],Ca[d]*Di[s][d]))\n",
    "                \n",
    "        return results"
   ]
  },
  {
   "cell_type": "markdown",
   "metadata": {
    "heading_collapsed": true
   },
   "source": [
    "## Otros ejemplos:\n",
    "\n",
    "TODO: Revisar cada uno"
   ]
  },
  {
   "cell_type": "code",
   "execution_count": 8,
   "metadata": {
    "hidden": true
   },
   "outputs": [
    {
     "name": "stdout",
     "output_type": "stream",
     "text": [
      "Status is Optimal, The total weighted travel is 3\n"
     ]
    },
    {
     "data": {
      "text/plain": [
       "[('A', 'A', 0, 4, 0),\n",
       " ('A', 'B', 1, 1, 1),\n",
       " ('D', 'C', 1, 2, 2),\n",
       " ('D', 'D', 0, 3, 0)]"
      ]
     },
     "execution_count": 8,
     "metadata": {},
     "output_type": "execute_result"
    }
   ],
   "source": [
    "Areas = ['A','B','C','D']\n",
    "Calls = {'A': 4,\n",
    "'B': 1,\n",
    "'C': 2,\n",
    "'D': 3}\n",
    "Distances = {'A': {'A': 0, 'B': 1, 'C': 2, 'D': 3},\n",
    "'B': {'A': 1, 'B': 0, 'C': 1, 'D': 2},\n",
    "'C': {'A': 2, 'B': 1, 'C': 0, 'D': 1},\n",
    "'D': {'A': 3, 'B': 2, 'C': 1, 'D': 0}}\n",
    "Contiguity = {'A': ['B'],\n",
    "'B': ['A','C'],\n",
    "'C': ['B','D'],\n",
    "'D': ['C']}\n",
    "PMed(Ar=Areas,Di=Distances,Co=Contiguity,Ca=Calls,Ta=2,In=0.2,Th=4)"
   ]
  },
  {
   "cell_type": "code",
   "execution_count": 9,
   "metadata": {
    "hidden": true
   },
   "outputs": [
    {
     "name": "stdout",
     "output_type": "stream",
     "text": [
      "Status is Infeasible\n"
     ]
    },
    {
     "data": {
      "text/plain": [
       "'Infeasible'"
      ]
     },
     "execution_count": 9,
     "metadata": {},
     "output_type": "execute_result"
    }
   ],
   "source": [
    "Areas = ['A','B','C','C2','D']\n",
    "Calls = {'A': 2,\n",
    "'B': 1,\n",
    "'C': 1,\n",
    "'C2':1,\n",
    "'D': 8}\n",
    "Distances = {'A': {'A': 0, 'B': 1, 'C': 2,'C2':3, 'D': 4},\n",
    "            'B': {'A': 1, 'B': 0, 'C': 1, 'C2':2, 'D': 3},\n",
    "            'C': {'A': 2, 'B': 1, 'C': 0, 'C2': 1, 'D':2},\n",
    "            'C2':{'A': 3, 'B': 2, 'C': 1, 'C2': 0, 'D':1},\n",
    "            'D': {'A': 4, 'B': 3, 'C': 2, 'C2':1, 'D': 0}}\n",
    "Contiguity = {'A': ['B'],\n",
    "'B': ['A','C','C2'],\n",
    "'C': ['A','B','C2'],\n",
    "'C2': ['B','C2','D'],\n",
    "'D': ['C2']}\n",
    "PMed(Ar=Areas,Di=Distances,Co=Contiguity,Ca=Calls,Ta=2,In=0.2,Th=4)"
   ]
  },
  {
   "cell_type": "code",
   "execution_count": 10,
   "metadata": {
    "hidden": true,
    "scrolled": true
   },
   "outputs": [
    {
     "name": "stdout",
     "output_type": "stream",
     "text": [
      "Status is Optimal, The total weighted travel is 17\n"
     ]
    },
    {
     "data": {
      "text/plain": [
       "[('C2', 'A', 3, 2, 6),\n",
       " ('C2', 'B', 2, 1, 2),\n",
       " ('C2', 'C', 1, 1, 1),\n",
       " ('C2', 'C2', 0, 1, 0),\n",
       " ('C2', 'D', 1, 8, 8)]"
      ]
     },
     "execution_count": 10,
     "metadata": {},
     "output_type": "execute_result"
    }
   ],
   "source": [
    "PMed(Ar=Areas,Di=Distances,Co=Contiguity,Ca=Calls,Ta=1,In=0.2,Th=4)"
   ]
  },
  {
   "cell_type": "code",
   "execution_count": 11,
   "metadata": {
    "hidden": true
   },
   "outputs": [
    {
     "name": "stdout",
     "output_type": "stream",
     "text": [
      "Status is Infeasible\n"
     ]
    },
    {
     "data": {
      "text/plain": [
       "'Infeasible'"
      ]
     },
     "execution_count": 11,
     "metadata": {},
     "output_type": "execute_result"
    }
   ],
   "source": [
    "#4 areas con los pesos anteriores\n",
    "PMed(Ar=Areas,Di=Distances,Co=Contiguity,Ca=Calls,Ta=4,In=0.2,Th=4)"
   ]
  },
  {
   "cell_type": "code",
   "execution_count": 12,
   "metadata": {
    "hidden": true
   },
   "outputs": [
    {
     "name": "stdout",
     "output_type": "stream",
     "text": [
      "Status is Optimal, The total weighted travel is 2\n"
     ]
    },
    {
     "data": {
      "text/plain": [
       "[('B', 'A', 1, 1, 1),\n",
       " ('B', 'B', 0, 1, 0),\n",
       " ('C', 'C', 0, 1, 0),\n",
       " ('C', 'D', 1, 1, 1)]"
      ]
     },
     "execution_count": 12,
     "metadata": {},
     "output_type": "execute_result"
    }
   ],
   "source": [
    "#pesos iguales\n",
    "Areas = ['A','B','C','D']\n",
    "Calls = {'A': 1,\n",
    "'B': 1,\n",
    "'C': 1,\n",
    "'D': 1}\n",
    "Distances = {'A': {'A': 0, 'B': 1, 'C': 2, 'D': 3},\n",
    "                'B': {'A': 1, 'B': 0, 'C': 1, 'D': 2},\n",
    "                'C': {'A': 2, 'B': 1, 'C': 0, 'D': 1},\n",
    "                'D': {'A': 3, 'B': 2, 'C': 1, 'D': 0}}\n",
    "Contiguity = {'A': ['B'],\n",
    "'B': ['A','C'],\n",
    "'C': ['B','C'],\n",
    "'D': ['C']}\n",
    "PMed(Ar=Areas,Di=Distances,Co=Contiguity,Ca=Calls,Ta=2,In=0.2,Th=4)"
   ]
  },
  {
   "cell_type": "code",
   "execution_count": 13,
   "metadata": {
    "hidden": true
   },
   "outputs": [
    {
     "name": "stdout",
     "output_type": "stream",
     "text": [
      "Status is Optimal, The total weighted travel is 0\n"
     ]
    },
    {
     "data": {
      "text/plain": [
       "[('A', 'A', 0, 1, 0),\n",
       " ('B', 'B', 0, 1, 0),\n",
       " ('C', 'C', 0, 1, 0),\n",
       " ('D', 'D', 0, 1, 0)]"
      ]
     },
     "execution_count": 13,
     "metadata": {},
     "output_type": "execute_result"
    }
   ],
   "source": [
    "#pesos iguales con 4 areas \n",
    "Areas = ['A','B','C','D']\n",
    "Calls = {'A': 1,\n",
    "'B': 1,\n",
    "'C': 1,\n",
    "'D': 1}\n",
    "Distances = {'A': {'A': 0, 'B': 1, 'C': 2, 'D': 3},\n",
    "                'B': {'A': 1, 'B': 0, 'C': 1, 'D': 2},\n",
    "                'C': {'A': 2, 'B': 1, 'C': 0, 'D': 1},\n",
    "                'D': {'A': 3, 'B': 2, 'C': 1, 'D': 0}}\n",
    "Contiguity = {'A': ['B'],\n",
    "'B': ['A','C'],\n",
    "'C': ['B','C'],\n",
    "'D': ['C']}\n",
    "PMed(Ar=Areas,Di=Distances,Co=Contiguity,Ca=Calls,Ta=4,In=0.2,Th=4)"
   ]
  },
  {
   "cell_type": "code",
   "execution_count": 14,
   "metadata": {
    "hidden": true,
    "scrolled": true
   },
   "outputs": [],
   "source": [
    "#help(pulp.LpProblem())"
   ]
  },
  {
   "cell_type": "code",
   "execution_count": 15,
   "metadata": {
    "hidden": true
   },
   "outputs": [
    {
     "name": "stdout",
     "output_type": "stream",
     "text": [
      "Status is Optimal, The total weighted travel is 0\n"
     ]
    },
    {
     "data": {
      "text/plain": [
       "[('A', 'A', 0, 1, 0), ('B', 'B', 0, 1, 0), ('C', 'C', 0, 1, 0)]"
      ]
     },
     "execution_count": 15,
     "metadata": {},
     "output_type": "execute_result"
    }
   ],
   "source": [
    "Areas = ['A','B','C']\n",
    "Calls = {'A': 1,\n",
    "'B': 1,\n",
    "'C': 1,}\n",
    "Distances = {'A': {'A': 0, 'B': 1, 'C': 2},\n",
    "                'B': {'A': 1, 'B': 0, 'C': 1,},\n",
    "                'C': {'A': 2, 'B': 1, 'C': 0, },\n",
    "                'D': {'A': 3, 'B': 2, 'C': 1,}}\n",
    "Contiguity = {'A': ['B'],\n",
    "'B': ['A','C'],\n",
    "'C': ['B'],\n",
    "             }\n",
    "PMed(Ar=Areas,Di=Distances,Co=Contiguity,Ca=Calls,Ta=3,In=0.2,Th=4)"
   ]
  },
  {
   "cell_type": "code",
   "execution_count": 16,
   "metadata": {
    "hidden": true
   },
   "outputs": [
    {
     "name": "stdout",
     "output_type": "stream",
     "text": [
      "Status is Optimal, The total weighted travel is 1\n"
     ]
    },
    {
     "data": {
      "text/plain": [
       "[('A', 'A', 0, 3, 0), ('C', 'B', 1, 1, 1), ('C', 'C', 0, 1, 0)]"
      ]
     },
     "execution_count": 16,
     "metadata": {},
     "output_type": "execute_result"
    }
   ],
   "source": [
    "Areas = ['A','B','C']\n",
    "Calls = {'A': 3,\n",
    "'B': 1,\n",
    "'C': 1,}\n",
    "Distances = {'A': {'A': 0, 'B': 1, 'C': 2},\n",
    "                'B': {'A': 1, 'B': 0, 'C': 1,},\n",
    "                'C': {'A': 2, 'B': 1, 'C': 0, },\n",
    "                'D': {'A': 3, 'B': 2, 'C': 1,}}\n",
    "Contiguity = {'A': ['B'],\n",
    "'B': ['A','C'],\n",
    "'C': ['B'],\n",
    "             }\n",
    "PMed(Ar=Areas,Di=Distances,Co=Contiguity,Ca=Calls,Ta=2,In=0.2,Th=4)"
   ]
  },
  {
   "cell_type": "code",
   "execution_count": null,
   "metadata": {
    "hidden": true
   },
   "outputs": [],
   "source": []
  },
  {
   "cell_type": "code",
   "execution_count": null,
   "metadata": {
    "hidden": true
   },
   "outputs": [],
   "source": []
  },
  {
   "cell_type": "code",
   "execution_count": null,
   "metadata": {
    "hidden": true
   },
   "outputs": [],
   "source": []
  },
  {
   "cell_type": "code",
   "execution_count": null,
   "metadata": {
    "hidden": true
   },
   "outputs": [],
   "source": []
  },
  {
   "cell_type": "code",
   "execution_count": null,
   "metadata": {
    "hidden": true
   },
   "outputs": [],
   "source": []
  },
  {
   "cell_type": "markdown",
   "metadata": {},
   "source": [
    "## Ejemplos asociados a la matriz de Intensidad:\n",
    "\n",
    "En el problema real se parte de una matriz de intensdidad que contiene las predicciones. En el primer ejemplo se supone que nuestra predicción coincide con la matriz identidad de 4x4"
   ]
  },
  {
   "cell_type": "code",
   "execution_count": 17,
   "metadata": {},
   "outputs": [
    {
     "data": {
      "text/plain": [
       "array([[1., 0., 0., 0.],\n",
       "       [0., 1., 0., 0.],\n",
       "       [0., 0., 1., 0.],\n",
       "       [0., 0., 0., 1.]])"
      ]
     },
     "execution_count": 17,
     "metadata": {},
     "output_type": "execute_result"
    }
   ],
   "source": [
    "intensity_matrix = np.identity(4)\n",
    "intensity_matrix"
   ]
  },
  {
   "cell_type": "code",
   "execution_count": 18,
   "metadata": {},
   "outputs": [
    {
     "data": {
      "text/plain": [
       "['00',\n",
       " '01',\n",
       " '02',\n",
       " '03',\n",
       " '10',\n",
       " '11',\n",
       " '12',\n",
       " '13',\n",
       " '20',\n",
       " '21',\n",
       " '22',\n",
       " '23',\n",
       " '30',\n",
       " '31',\n",
       " '32',\n",
       " '33']"
      ]
     },
     "execution_count": 18,
     "metadata": {},
     "output_type": "execute_result"
    }
   ],
   "source": [
    "# Nombramos las áreas con su componente 'ij'\n",
    "Areas = []\n",
    "for i in range(0, np.shape(intensity_matrix)[0]):\n",
    "    for j in range(0, np.shape(intensity_matrix)[1]):\n",
    "        Areas.append(str(i)+str(j))\n",
    "Areas"
   ]
  },
  {
   "cell_type": "code",
   "execution_count": 19,
   "metadata": {},
   "outputs": [
    {
     "data": {
      "text/plain": [
       "{'00': 1.0,\n",
       " '01': 0.0,\n",
       " '02': 0.0,\n",
       " '03': 0.0,\n",
       " '10': 0.0,\n",
       " '11': 1.0,\n",
       " '12': 0.0,\n",
       " '13': 0.0,\n",
       " '20': 0.0,\n",
       " '21': 0.0,\n",
       " '22': 1.0,\n",
       " '23': 0.0,\n",
       " '30': 0.0,\n",
       " '31': 0.0,\n",
       " '32': 0.0,\n",
       " '33': 1.0}"
      ]
     },
     "execution_count": 19,
     "metadata": {},
     "output_type": "execute_result"
    }
   ],
   "source": [
    "# Cada área tiene un valor de predicción \n",
    "# dada en la matrix de intensidad\n",
    "Calls = {}\n",
    "pred_values = np.matrix.flatten(intensity_matrix)\n",
    "for index in range(0,np.shape(Areas)[0]):\n",
    "    Calls.update({Areas[index]: pred_values[index]})\n",
    "Calls"
   ]
  },
  {
   "cell_type": "code",
   "execution_count": 20,
   "metadata": {
    "scrolled": true
   },
   "outputs": [
    {
     "data": {
      "text/plain": [
       "{'00': {'00': 0.0,\n",
       "  '01': 1.0,\n",
       "  '02': 2.0,\n",
       "  '03': 3.0,\n",
       "  '10': 1.0,\n",
       "  '11': 2.0,\n",
       "  '12': 3.0,\n",
       "  '13': 4.0,\n",
       "  '20': 2.0,\n",
       "  '21': 3.0,\n",
       "  '22': 4.0,\n",
       "  '23': 5.0,\n",
       "  '30': 3.0,\n",
       "  '31': 4.0,\n",
       "  '32': 5.0,\n",
       "  '33': 6.0},\n",
       " '01': {'00': 1.0,\n",
       "  '01': 0.0,\n",
       "  '02': 1.0,\n",
       "  '03': 2.0,\n",
       "  '10': 2.0,\n",
       "  '11': 1.0,\n",
       "  '12': 2.0,\n",
       "  '13': 3.0,\n",
       "  '20': 3.0,\n",
       "  '21': 2.0,\n",
       "  '22': 3.0,\n",
       "  '23': 4.0,\n",
       "  '30': 4.0,\n",
       "  '31': 3.0,\n",
       "  '32': 4.0,\n",
       "  '33': 5.0},\n",
       " '02': {'00': 2.0,\n",
       "  '01': 1.0,\n",
       "  '02': 0.0,\n",
       "  '03': 1.0,\n",
       "  '10': 3.0,\n",
       "  '11': 2.0,\n",
       "  '12': 1.0,\n",
       "  '13': 2.0,\n",
       "  '20': 4.0,\n",
       "  '21': 3.0,\n",
       "  '22': 2.0,\n",
       "  '23': 3.0,\n",
       "  '30': 5.0,\n",
       "  '31': 4.0,\n",
       "  '32': 3.0,\n",
       "  '33': 4.0},\n",
       " '03': {'00': 3.0,\n",
       "  '01': 2.0,\n",
       "  '02': 1.0,\n",
       "  '03': 0.0,\n",
       "  '10': 4.0,\n",
       "  '11': 3.0,\n",
       "  '12': 2.0,\n",
       "  '13': 1.0,\n",
       "  '20': 5.0,\n",
       "  '21': 4.0,\n",
       "  '22': 3.0,\n",
       "  '23': 2.0,\n",
       "  '30': 6.0,\n",
       "  '31': 5.0,\n",
       "  '32': 4.0,\n",
       "  '33': 3.0},\n",
       " '10': {'00': 1.0,\n",
       "  '01': 2.0,\n",
       "  '02': 3.0,\n",
       "  '03': 4.0,\n",
       "  '10': 0.0,\n",
       "  '11': 1.0,\n",
       "  '12': 2.0,\n",
       "  '13': 3.0,\n",
       "  '20': 1.0,\n",
       "  '21': 2.0,\n",
       "  '22': 3.0,\n",
       "  '23': 4.0,\n",
       "  '30': 2.0,\n",
       "  '31': 3.0,\n",
       "  '32': 4.0,\n",
       "  '33': 5.0},\n",
       " '11': {'00': 2.0,\n",
       "  '01': 1.0,\n",
       "  '02': 2.0,\n",
       "  '03': 3.0,\n",
       "  '10': 1.0,\n",
       "  '11': 0.0,\n",
       "  '12': 1.0,\n",
       "  '13': 2.0,\n",
       "  '20': 2.0,\n",
       "  '21': 1.0,\n",
       "  '22': 2.0,\n",
       "  '23': 3.0,\n",
       "  '30': 3.0,\n",
       "  '31': 2.0,\n",
       "  '32': 3.0,\n",
       "  '33': 4.0},\n",
       " '12': {'00': 3.0,\n",
       "  '01': 2.0,\n",
       "  '02': 1.0,\n",
       "  '03': 2.0,\n",
       "  '10': 2.0,\n",
       "  '11': 1.0,\n",
       "  '12': 0.0,\n",
       "  '13': 1.0,\n",
       "  '20': 3.0,\n",
       "  '21': 2.0,\n",
       "  '22': 1.0,\n",
       "  '23': 2.0,\n",
       "  '30': 4.0,\n",
       "  '31': 3.0,\n",
       "  '32': 2.0,\n",
       "  '33': 3.0},\n",
       " '13': {'00': 4.0,\n",
       "  '01': 3.0,\n",
       "  '02': 2.0,\n",
       "  '03': 1.0,\n",
       "  '10': 3.0,\n",
       "  '11': 2.0,\n",
       "  '12': 1.0,\n",
       "  '13': 0.0,\n",
       "  '20': 4.0,\n",
       "  '21': 3.0,\n",
       "  '22': 2.0,\n",
       "  '23': 1.0,\n",
       "  '30': 5.0,\n",
       "  '31': 4.0,\n",
       "  '32': 3.0,\n",
       "  '33': 2.0},\n",
       " '20': {'00': 2.0,\n",
       "  '01': 3.0,\n",
       "  '02': 4.0,\n",
       "  '03': 5.0,\n",
       "  '10': 1.0,\n",
       "  '11': 2.0,\n",
       "  '12': 3.0,\n",
       "  '13': 4.0,\n",
       "  '20': 0.0,\n",
       "  '21': 1.0,\n",
       "  '22': 2.0,\n",
       "  '23': 3.0,\n",
       "  '30': 1.0,\n",
       "  '31': 2.0,\n",
       "  '32': 3.0,\n",
       "  '33': 4.0},\n",
       " '21': {'00': 3.0,\n",
       "  '01': 2.0,\n",
       "  '02': 3.0,\n",
       "  '03': 4.0,\n",
       "  '10': 2.0,\n",
       "  '11': 1.0,\n",
       "  '12': 2.0,\n",
       "  '13': 3.0,\n",
       "  '20': 1.0,\n",
       "  '21': 0.0,\n",
       "  '22': 1.0,\n",
       "  '23': 2.0,\n",
       "  '30': 2.0,\n",
       "  '31': 1.0,\n",
       "  '32': 2.0,\n",
       "  '33': 3.0},\n",
       " '22': {'00': 4.0,\n",
       "  '01': 3.0,\n",
       "  '02': 2.0,\n",
       "  '03': 3.0,\n",
       "  '10': 3.0,\n",
       "  '11': 2.0,\n",
       "  '12': 1.0,\n",
       "  '13': 2.0,\n",
       "  '20': 2.0,\n",
       "  '21': 1.0,\n",
       "  '22': 0.0,\n",
       "  '23': 1.0,\n",
       "  '30': 3.0,\n",
       "  '31': 2.0,\n",
       "  '32': 1.0,\n",
       "  '33': 2.0},\n",
       " '23': {'00': 5.0,\n",
       "  '01': 4.0,\n",
       "  '02': 3.0,\n",
       "  '03': 2.0,\n",
       "  '10': 4.0,\n",
       "  '11': 3.0,\n",
       "  '12': 2.0,\n",
       "  '13': 1.0,\n",
       "  '20': 3.0,\n",
       "  '21': 2.0,\n",
       "  '22': 1.0,\n",
       "  '23': 0.0,\n",
       "  '30': 4.0,\n",
       "  '31': 3.0,\n",
       "  '32': 2.0,\n",
       "  '33': 1.0},\n",
       " '30': {'00': 3.0,\n",
       "  '01': 4.0,\n",
       "  '02': 5.0,\n",
       "  '03': 6.0,\n",
       "  '10': 2.0,\n",
       "  '11': 3.0,\n",
       "  '12': 4.0,\n",
       "  '13': 5.0,\n",
       "  '20': 1.0,\n",
       "  '21': 2.0,\n",
       "  '22': 3.0,\n",
       "  '23': 4.0,\n",
       "  '30': 0.0,\n",
       "  '31': 1.0,\n",
       "  '32': 2.0,\n",
       "  '33': 3.0},\n",
       " '31': {'00': 4.0,\n",
       "  '01': 3.0,\n",
       "  '02': 4.0,\n",
       "  '03': 5.0,\n",
       "  '10': 3.0,\n",
       "  '11': 2.0,\n",
       "  '12': 3.0,\n",
       "  '13': 4.0,\n",
       "  '20': 2.0,\n",
       "  '21': 1.0,\n",
       "  '22': 2.0,\n",
       "  '23': 3.0,\n",
       "  '30': 1.0,\n",
       "  '31': 0.0,\n",
       "  '32': 1.0,\n",
       "  '33': 2.0},\n",
       " '32': {'00': 5.0,\n",
       "  '01': 4.0,\n",
       "  '02': 3.0,\n",
       "  '03': 4.0,\n",
       "  '10': 4.0,\n",
       "  '11': 3.0,\n",
       "  '12': 2.0,\n",
       "  '13': 3.0,\n",
       "  '20': 3.0,\n",
       "  '21': 2.0,\n",
       "  '22': 1.0,\n",
       "  '23': 2.0,\n",
       "  '30': 2.0,\n",
       "  '31': 1.0,\n",
       "  '32': 0.0,\n",
       "  '33': 1.0},\n",
       " '33': {'00': 6.0,\n",
       "  '01': 5.0,\n",
       "  '02': 4.0,\n",
       "  '03': 3.0,\n",
       "  '10': 5.0,\n",
       "  '11': 4.0,\n",
       "  '12': 3.0,\n",
       "  '13': 2.0,\n",
       "  '20': 4.0,\n",
       "  '21': 3.0,\n",
       "  '22': 2.0,\n",
       "  '23': 1.0,\n",
       "  '30': 3.0,\n",
       "  '31': 2.0,\n",
       "  '32': 1.0,\n",
       "  '33': 0.0}}"
      ]
     },
     "execution_count": 20,
     "metadata": {},
     "output_type": "execute_result"
    }
   ],
   "source": [
    "# El diccionario de distancias calcula la distancia\n",
    "# de cada área a las demás\n",
    "Distances = {}\n",
    "unit = 1\n",
    "row, column = np.shape(intensity_matrix)\n",
    "coords = []\n",
    "for n in range(0,row):\n",
    "    for m in range(0, column):\n",
    "        coords.append((n*unit,m*unit))\n",
    "distance_matrix = distance.cdist(coords, coords, 'cityblock')\n",
    "for i in range(0, np.shape(Areas)[0]):\n",
    "    dictionary = dict(zip(Areas, distance_matrix[i]))\n",
    "    Distances.update({Areas[i]:dictionary})\n",
    "Distances"
   ]
  },
  {
   "cell_type": "code",
   "execution_count": 21,
   "metadata": {},
   "outputs": [
    {
     "data": {
      "text/plain": [
       "{'00': ['01', '10'],\n",
       " '01': ['00', '02', '11'],\n",
       " '02': ['01', '03', '12'],\n",
       " '03': ['02', '13'],\n",
       " '10': ['00', '11', '20'],\n",
       " '11': ['01', '10', '12', '21'],\n",
       " '12': ['02', '11', '13', '22'],\n",
       " '13': ['03', '12', '23'],\n",
       " '20': ['10', '21', '30'],\n",
       " '21': ['11', '20', '22', '31'],\n",
       " '22': ['12', '21', '23', '32'],\n",
       " '23': ['13', '22', '33'],\n",
       " '30': ['20', '31'],\n",
       " '31': ['21', '30', '32'],\n",
       " '32': ['22', '31', '33'],\n",
       " '33': ['23', '32']}"
      ]
     },
     "execution_count": 21,
     "metadata": {},
     "output_type": "execute_result"
    }
   ],
   "source": [
    "# Contiguidad\n",
    "min_distance = 1 \n",
    "Contiguity = {}\n",
    "areas3 = list(Distances.keys())\n",
    "distances3 = list(Distances.values())\n",
    "for i in range(0, np.shape(areas3)[0]):  \n",
    "    cond = {k:v for (k,v) in distances3[i].items() if v==min_distance}\n",
    "    cond = list(cond.keys())\n",
    "    Contiguity.update({areas3[i]:cond})\n",
    "Contiguity"
   ]
  },
  {
   "cell_type": "code",
   "execution_count": 22,
   "metadata": {},
   "outputs": [
    {
     "name": "stdout",
     "output_type": "stream",
     "text": [
      "Status is Optimal, The total weighted travel is 4\n"
     ]
    },
    {
     "data": {
      "text/plain": [
       "[('11', '00', 2.0, 1.0, 2.0),\n",
       " ('11', '01', 1.0, 0.0, 0.0),\n",
       " ('11', '02', 2.0, 0.0, 0.0),\n",
       " ('11', '03', 3.0, 0.0, 0.0),\n",
       " ('11', '11', 0.0, 1.0, 0.0),\n",
       " ('11', '12', 1.0, 0.0, 0.0),\n",
       " ('22', '10', 3.0, 0.0, 0.0),\n",
       " ('22', '13', 2.0, 0.0, 0.0),\n",
       " ('22', '20', 2.0, 0.0, 0.0),\n",
       " ('22', '21', 1.0, 0.0, 0.0),\n",
       " ('22', '22', 0.0, 1.0, 0.0),\n",
       " ('22', '23', 1.0, 0.0, 0.0),\n",
       " ('22', '30', 3.0, 0.0, 0.0),\n",
       " ('22', '31', 2.0, 0.0, 0.0),\n",
       " ('22', '32', 1.0, 0.0, 0.0),\n",
       " ('22', '33', 2.0, 1.0, 2.0)]"
      ]
     },
     "execution_count": 22,
     "metadata": {},
     "output_type": "execute_result"
    }
   ],
   "source": [
    "PMed(Ar=Areas,Di=Distances,Co=Contiguity,Ca=Calls,Ta=2,In=0.2,Th=4)\n",
    "\n",
    "# Interpretación \n",
    "# Resultado para cada tupla:\n",
    "# 1: Origen\n",
    "# 2: Destino\n",
    "# 3: Distancia Origen-Destino\n",
    "# 4: Peso del Destino\n",
    "# 5: Viaje Origen-Destino\n",
    "\n",
    "# El viaje ponderado total se calcula \n",
    "# sumando la quinta componente de cada tupla\n"
   ]
  },
  {
   "cell_type": "markdown",
   "metadata": {},
   "source": [
    "El resultado lo podemos ver con la siguiente imagen: \n",
    "    \n",
    "![title](https://github.com/jscanass/modeling/blob/master/ej_mi_.png?raw=true)\n",
    "\n",
    "En este caso partimos de predicciones de crímenes en la diagonal y después de optimizar se divide la zona en dos, donde los colores oscuros de cada tonalidad son las bases. En nuestro caso el viaje ponderado total es 4, este es aportado por el viaje de 22 a 33 y de 11 a 00, 2 cada uno, como se ve en la 5ta componente del resultado. \n",
    "\n",
    "Este resultado es esperado pues los únicos valores que aportan al viaje ponderado total son los de la diagonal por lo que las bases efectivamente deben estar ahí y los viajes se hacen entre diagonales pero pasando por otras áreas, esto debido a la distancia utilizada: [distancia Manhattan](https://es.wikipedia.org/wiki/Geometr%C3%ADa_del_taxista).\n"
   ]
  },
  {
   "cell_type": "code",
   "execution_count": 23,
   "metadata": {},
   "outputs": [
    {
     "name": "stdout",
     "output_type": "stream",
     "text": [
      "Status is Optimal, The total weighted travel is 0\n"
     ]
    },
    {
     "data": {
      "text/plain": [
       "[('00', '00', 0.0, 1.0, 0.0),\n",
       " ('11', '01', 1.0, 0.0, 0.0),\n",
       " ('11', '02', 2.0, 0.0, 0.0),\n",
       " ('11', '03', 3.0, 0.0, 0.0),\n",
       " ('11', '11', 0.0, 1.0, 0.0),\n",
       " ('11', '12', 1.0, 0.0, 0.0),\n",
       " ('22', '10', 3.0, 0.0, 0.0),\n",
       " ('22', '13', 2.0, 0.0, 0.0),\n",
       " ('22', '20', 2.0, 0.0, 0.0),\n",
       " ('22', '21', 1.0, 0.0, 0.0),\n",
       " ('22', '22', 0.0, 1.0, 0.0),\n",
       " ('22', '23', 1.0, 0.0, 0.0),\n",
       " ('22', '30', 3.0, 0.0, 0.0),\n",
       " ('22', '31', 2.0, 0.0, 0.0),\n",
       " ('33', '32', 1.0, 0.0, 0.0),\n",
       " ('33', '33', 0.0, 1.0, 0.0)]"
      ]
     },
     "execution_count": 23,
     "metadata": {},
     "output_type": "execute_result"
    }
   ],
   "source": [
    "# Ahora si queremos dividir la zona en 4 obtendremos las\n",
    "# bases en las diagonales y el viaje ponderado total 0.\n",
    "# La forma de las áreas generadas no interesa porque no \n",
    "# aportan a la predicción, estas solo dependen de los \n",
    "# parámetros de la predicción\n",
    "\n",
    "PMed(Ar=Areas,Di=Distances,Co=Contiguity,Ca=Calls,Ta=4,In=0.2,Th=4)"
   ]
  },
  {
   "cell_type": "code",
   "execution_count": null,
   "metadata": {},
   "outputs": [],
   "source": []
  },
  {
   "cell_type": "code",
   "execution_count": 24,
   "metadata": {},
   "outputs": [],
   "source": [
    "# Función para convertir la matriz de intensidad a\n",
    "# los parametros de la función de intensidad\n",
    "\n",
    "def Opt_Parameters(intensity_matrix,unit=1):\n",
    "    \n",
    "    Areas = []\n",
    "    for i in range(0, np.shape(intensity_matrix)[0]):\n",
    "        for j in range(0, np.shape(intensity_matrix)[1]):\n",
    "            Areas.append(str(i)+str(j))\n",
    "    \n",
    "    Calls = {}\n",
    "    pred_values = np.matrix.flatten(intensity_matrix)\n",
    "    for index in range(0,np.shape(Areas)[0]):\n",
    "        Calls.update({Areas[index]: pred_values[index]})\n",
    "    \n",
    "    Distances = {}\n",
    "    row, column = np.shape(intensity_matrix)\n",
    "    coords = []\n",
    "    for n in range(0,row):\n",
    "        for m in range(0, column):\n",
    "            coords.append((n*unit,m*unit))\n",
    "    distance_matrix = distance.cdist(coords, coords, 'cityblock')\n",
    "    for i in range(0, np.shape(Areas)[0]):\n",
    "        dictionary = dict(zip(Areas, distance_matrix[i]))\n",
    "        Distances.update({Areas[i]:dictionary})\n",
    "        \n",
    "    Contiguity = {}\n",
    "    areas3 = list(Distances.keys())\n",
    "    distances3 = list(Distances.values())\n",
    "    for i in range(0, np.shape(areas3)[0]):  \n",
    "        cond = {k:v for (k,v) in distances3[i].items() if v==unit}\n",
    "        cond = list(cond.keys())\n",
    "        Contiguity.update({areas3[i]:cond})\n",
    "    \n",
    "    return Areas, Calls, Distances, Contiguity  "
   ]
  },
  {
   "cell_type": "code",
   "execution_count": null,
   "metadata": {},
   "outputs": [],
   "source": []
  },
  {
   "cell_type": "code",
   "execution_count": null,
   "metadata": {},
   "outputs": [],
   "source": []
  },
  {
   "cell_type": "markdown",
   "metadata": {},
   "source": [
    "Ahora vamos a generar los siguientes ejemplos: \n",
    "\n",
    "![title](https://raw.githubusercontent.com/jscanass/modeling/master/ej2.png)"
   ]
  },
  {
   "cell_type": "code",
   "execution_count": 25,
   "metadata": {},
   "outputs": [
    {
     "data": {
      "text/plain": [
       "array([[1, 1, 1, 1, 1, 1],\n",
       "       [1, 1, 1, 1, 1, 1],\n",
       "       [1, 1, 1, 1, 1, 1],\n",
       "       [1, 1, 1, 1, 1, 1],\n",
       "       [1, 1, 1, 1, 1, 1],\n",
       "       [1, 1, 1, 1, 1, 1]])"
      ]
     },
     "execution_count": 25,
     "metadata": {},
     "output_type": "execute_result"
    }
   ],
   "source": [
    "# Ejemplo 1: Even Calls\n",
    "\n",
    "intensity_matrix1 = np.full((6,6),1)\n",
    "intensity_matrix1"
   ]
  },
  {
   "cell_type": "code",
   "execution_count": 26,
   "metadata": {},
   "outputs": [
    {
     "name": "stdout",
     "output_type": "stream",
     "text": [
      "Status is Optimal, The total weighted travel is 78\n"
     ]
    },
    {
     "data": {
      "text/plain": [
       "[('13', '00', 4.0, 1, 4.0),\n",
       " ('13', '01', 3.0, 1, 3.0),\n",
       " ('13', '02', 2.0, 1, 2.0),\n",
       " ('13', '03', 1.0, 1, 1.0),\n",
       " ('13', '04', 2.0, 1, 2.0),\n",
       " ('13', '05', 3.0, 1, 3.0),\n",
       " ('13', '10', 3.0, 1, 3.0),\n",
       " ('13', '11', 2.0, 1, 2.0),\n",
       " ('13', '12', 1.0, 1, 1.0),\n",
       " ('13', '13', 0.0, 1, 0.0),\n",
       " ('13', '14', 1.0, 1, 1.0),\n",
       " ('13', '15', 2.0, 1, 2.0),\n",
       " ('13', '20', 4.0, 1, 4.0),\n",
       " ('13', '22', 2.0, 1, 2.0),\n",
       " ('13', '23', 1.0, 1, 1.0),\n",
       " ('13', '24', 2.0, 1, 2.0),\n",
       " ('13', '25', 3.0, 1, 3.0),\n",
       " ('13', '33', 2.0, 1, 2.0),\n",
       " ('13', '34', 3.0, 1, 3.0),\n",
       " ('42', '21', 3.0, 1, 3.0),\n",
       " ('42', '30', 3.0, 1, 3.0),\n",
       " ('42', '31', 2.0, 1, 2.0),\n",
       " ('42', '32', 1.0, 1, 1.0),\n",
       " ('42', '35', 4.0, 1, 4.0),\n",
       " ('42', '40', 2.0, 1, 2.0),\n",
       " ('42', '41', 1.0, 1, 1.0),\n",
       " ('42', '42', 0.0, 1, 0.0),\n",
       " ('42', '43', 1.0, 1, 1.0),\n",
       " ('42', '44', 2.0, 1, 2.0),\n",
       " ('42', '45', 3.0, 1, 3.0),\n",
       " ('42', '50', 3.0, 1, 3.0),\n",
       " ('42', '51', 2.0, 1, 2.0),\n",
       " ('42', '52', 1.0, 1, 1.0),\n",
       " ('42', '53', 2.0, 1, 2.0),\n",
       " ('42', '54', 3.0, 1, 3.0),\n",
       " ('42', '55', 4.0, 1, 4.0)]"
      ]
     },
     "execution_count": 26,
     "metadata": {},
     "output_type": "execute_result"
    }
   ],
   "source": [
    "Areas, Calls, Distances, Contiguity = Opt_Parameters(intensity_matrix1)\n",
    "PMed(Ar=Areas,Di=Distances,Co=Contiguity,Ca=Calls,Ta=2,In=0.2,Th=10)\n",
    "\n",
    "#In - exceptable level of inequality between loads, so passing 0.1 would mean top could have\n",
    "# (Total Calls/Ta)*1.1 total calls in the partitioned area\n",
    "#Th - threshold to consider source to destination as viable decision variables"
   ]
  },
  {
   "cell_type": "code",
   "execution_count": 27,
   "metadata": {},
   "outputs": [
    {
     "data": {
      "text/plain": [
       "array([[10,  5,  1,  1,  1,  1],\n",
       "       [ 5,  1,  1,  1,  1,  1],\n",
       "       [ 1,  1,  1,  1,  1,  1],\n",
       "       [ 1,  1,  1,  1,  1,  1],\n",
       "       [ 1,  1,  1,  1,  1,  1],\n",
       "       [ 1,  1,  1,  1,  1,  1]])"
      ]
     },
     "execution_count": 27,
     "metadata": {},
     "output_type": "execute_result"
    }
   ],
   "source": [
    "# Ejemplo 2: 1 Hot Spot\n",
    "\n",
    "intensity_matrix2 = np.full((6,6),1)\n",
    "intensity_matrix2[0,0] = 10\n",
    "intensity_matrix2[0,1] = 5\n",
    "intensity_matrix2[1,0] = 5\n",
    "intensity_matrix2"
   ]
  },
  {
   "cell_type": "code",
   "execution_count": 28,
   "metadata": {},
   "outputs": [
    {
     "name": "stdout",
     "output_type": "stream",
     "text": [
      "Status is Optimal, The total weighted travel is 96\n"
     ]
    },
    {
     "data": {
      "text/plain": [
       "[('00', '00', 0.0, 10, 0.0),\n",
       " ('00', '01', 1.0, 5, 5.0),\n",
       " ('00', '02', 2.0, 1, 2.0),\n",
       " ('00', '03', 3.0, 1, 3.0),\n",
       " ('00', '10', 1.0, 5, 5.0),\n",
       " ('00', '11', 2.0, 1, 2.0),\n",
       " ('00', '12', 3.0, 1, 3.0),\n",
       " ('00', '20', 2.0, 1, 2.0),\n",
       " ('00', '21', 3.0, 1, 3.0),\n",
       " ('00', '30', 3.0, 1, 3.0),\n",
       " ('00', '40', 4.0, 1, 4.0),\n",
       " ('00', '50', 5.0, 1, 5.0),\n",
       " ('34', '04', 3.0, 1, 3.0),\n",
       " ('34', '05', 4.0, 1, 4.0),\n",
       " ('34', '13', 3.0, 1, 3.0),\n",
       " ('34', '14', 2.0, 1, 2.0),\n",
       " ('34', '15', 3.0, 1, 3.0),\n",
       " ('34', '22', 3.0, 1, 3.0),\n",
       " ('34', '23', 2.0, 1, 2.0),\n",
       " ('34', '24', 1.0, 1, 1.0),\n",
       " ('34', '25', 2.0, 1, 2.0),\n",
       " ('34', '31', 3.0, 1, 3.0),\n",
       " ('34', '32', 2.0, 1, 2.0),\n",
       " ('34', '33', 1.0, 1, 1.0),\n",
       " ('34', '34', 0.0, 1, 0.0),\n",
       " ('34', '35', 1.0, 1, 1.0),\n",
       " ('34', '41', 4.0, 1, 4.0),\n",
       " ('34', '42', 3.0, 1, 3.0),\n",
       " ('34', '43', 2.0, 1, 2.0),\n",
       " ('34', '44', 1.0, 1, 1.0),\n",
       " ('34', '45', 2.0, 1, 2.0),\n",
       " ('34', '51', 5.0, 1, 5.0),\n",
       " ('34', '52', 4.0, 1, 4.0),\n",
       " ('34', '53', 3.0, 1, 3.0),\n",
       " ('34', '54', 2.0, 1, 2.0),\n",
       " ('34', '55', 3.0, 1, 3.0)]"
      ]
     },
     "execution_count": 28,
     "metadata": {},
     "output_type": "execute_result"
    }
   ],
   "source": [
    "Areas, Calls, Distances, Contiguity = Opt_Parameters(intensity_matrix2)\n",
    "PMed(Ar=Areas,Di=Distances,Co=Contiguity,Ca=Calls,Ta=2,In=0.2,Th=10)"
   ]
  },
  {
   "cell_type": "code",
   "execution_count": 29,
   "metadata": {},
   "outputs": [
    {
     "data": {
      "text/plain": [
       "array([[ 1,  1,  1,  1,  1,  1],\n",
       "       [ 1,  5,  5,  5,  1,  1],\n",
       "       [ 1,  5, 10,  5,  1,  1],\n",
       "       [ 1,  5,  5,  5,  1,  1],\n",
       "       [ 1,  1,  1,  1,  1,  1],\n",
       "       [ 1,  1,  1,  1,  1,  1]])"
      ]
     },
     "execution_count": 29,
     "metadata": {},
     "output_type": "execute_result"
    }
   ],
   "source": [
    "# Ejemplo 3: 1 Hot spot Near Middle\n",
    "\n",
    "intensity_matrix3 = np.full((6,6),1)\n",
    "intensity_matrix3[1,1] = 5\n",
    "intensity_matrix3[1,2] = 5\n",
    "intensity_matrix3[1,3] = 5\n",
    "intensity_matrix3[2,1] = 5\n",
    "intensity_matrix3[2,2] = 10\n",
    "intensity_matrix3[2,3] = 5\n",
    "intensity_matrix3[3,1] = 5\n",
    "intensity_matrix3[3,2] = 5\n",
    "intensity_matrix3[3,3] = 5\n",
    "\n",
    "intensity_matrix3"
   ]
  },
  {
   "cell_type": "code",
   "execution_count": 30,
   "metadata": {},
   "outputs": [
    {
     "name": "stdout",
     "output_type": "stream",
     "text": [
      "Status is Optimal, The total weighted travel is 122\n"
     ]
    },
    {
     "data": {
      "text/plain": [
       "[('21', '00', 3.0, 1, 3.0),\n",
       " ('21', '01', 2.0, 1, 2.0),\n",
       " ('21', '02', 3.0, 1, 3.0),\n",
       " ('21', '10', 2.0, 1, 2.0),\n",
       " ('21', '11', 1.0, 5, 5.0),\n",
       " ('21', '12', 2.0, 5, 10.0),\n",
       " ('21', '20', 1.0, 1, 1.0),\n",
       " ('21', '21', 0.0, 5, 0.0),\n",
       " ('21', '22', 1.0, 10, 10.0),\n",
       " ('21', '30', 2.0, 1, 2.0),\n",
       " ('21', '31', 1.0, 5, 5.0),\n",
       " ('21', '40', 3.0, 1, 3.0),\n",
       " ('21', '41', 2.0, 1, 2.0),\n",
       " ('21', '50', 4.0, 1, 4.0),\n",
       " ('21', '51', 3.0, 1, 3.0),\n",
       " ('33', '03', 3.0, 1, 3.0),\n",
       " ('33', '04', 4.0, 1, 4.0),\n",
       " ('33', '05', 5.0, 1, 5.0),\n",
       " ('33', '13', 2.0, 5, 10.0),\n",
       " ('33', '14', 3.0, 1, 3.0),\n",
       " ('33', '15', 4.0, 1, 4.0),\n",
       " ('33', '23', 1.0, 5, 5.0),\n",
       " ('33', '24', 2.0, 1, 2.0),\n",
       " ('33', '25', 3.0, 1, 3.0),\n",
       " ('33', '32', 1.0, 5, 5.0),\n",
       " ('33', '33', 0.0, 5, 0.0),\n",
       " ('33', '34', 1.0, 1, 1.0),\n",
       " ('33', '35', 2.0, 1, 2.0),\n",
       " ('33', '42', 2.0, 1, 2.0),\n",
       " ('33', '43', 1.0, 1, 1.0),\n",
       " ('33', '44', 2.0, 1, 2.0),\n",
       " ('33', '45', 3.0, 1, 3.0),\n",
       " ('33', '52', 3.0, 1, 3.0),\n",
       " ('33', '53', 2.0, 1, 2.0),\n",
       " ('33', '54', 3.0, 1, 3.0),\n",
       " ('33', '55', 4.0, 1, 4.0)]"
      ]
     },
     "execution_count": 30,
     "metadata": {},
     "output_type": "execute_result"
    }
   ],
   "source": [
    "Areas, Calls, Distances, Contiguity = Opt_Parameters(intensity_matrix3)\n",
    "PMed(Ar=Areas,Di=Distances,Co=Contiguity,Ca=Calls,Ta=2,In=0.2,Th=10)"
   ]
  },
  {
   "cell_type": "code",
   "execution_count": 31,
   "metadata": {},
   "outputs": [
    {
     "data": {
      "text/plain": [
       "array([[10,  5,  1,  1,  1,  1],\n",
       "       [ 5,  1,  1,  1,  1,  1],\n",
       "       [ 1,  1,  1,  1,  1,  1],\n",
       "       [ 1,  1,  1,  1,  1,  1],\n",
       "       [ 1,  1,  1,  1,  1,  5],\n",
       "       [ 1,  1,  1,  1,  5, 10]])"
      ]
     },
     "execution_count": 31,
     "metadata": {},
     "output_type": "execute_result"
    }
   ],
   "source": [
    "# Ejemplo 4: 2 Hot Spot\n",
    "\n",
    "intensity_matrix4 = np.full((6,6),1)\n",
    "intensity_matrix4[0,0] = 10\n",
    "intensity_matrix4[0,1] = 5\n",
    "intensity_matrix4[1,0] = 5\n",
    "intensity_matrix4[5,5] = 10\n",
    "intensity_matrix4[4,5] = 5\n",
    "intensity_matrix4[5,4] = 5\n",
    "intensity_matrix4"
   ]
  },
  {
   "cell_type": "code",
   "execution_count": 32,
   "metadata": {},
   "outputs": [
    {
     "name": "stdout",
     "output_type": "stream",
     "text": [
      "Status is Optimal, The total weighted travel is 125\n"
     ]
    },
    {
     "data": {
      "text/plain": [
       "[('10', '00', 1.0, 10, 10.0),\n",
       " ('10', '01', 2.0, 5, 10.0),\n",
       " ('10', '02', 3.0, 1, 3.0),\n",
       " ('10', '03', 4.0, 1, 4.0),\n",
       " ('10', '04', 5.0, 1, 5.0),\n",
       " ('10', '10', 0.0, 5, 0.0),\n",
       " ('10', '11', 1.0, 1, 1.0),\n",
       " ('10', '12', 2.0, 1, 2.0),\n",
       " ('10', '13', 3.0, 1, 3.0),\n",
       " ('10', '14', 4.0, 1, 4.0),\n",
       " ('10', '20', 1.0, 1, 1.0),\n",
       " ('10', '21', 2.0, 1, 2.0),\n",
       " ('10', '22', 3.0, 1, 3.0),\n",
       " ('10', '23', 4.0, 1, 4.0),\n",
       " ('10', '30', 2.0, 1, 2.0),\n",
       " ('10', '31', 3.0, 1, 3.0),\n",
       " ('10', '32', 4.0, 1, 4.0),\n",
       " ('10', '40', 3.0, 1, 3.0),\n",
       " ('10', '41', 4.0, 1, 4.0),\n",
       " ('10', '50', 4.0, 1, 4.0),\n",
       " ('55', '05', 5.0, 1, 5.0),\n",
       " ('55', '15', 4.0, 1, 4.0),\n",
       " ('55', '24', 4.0, 1, 4.0),\n",
       " ('55', '25', 3.0, 1, 3.0),\n",
       " ('55', '33', 4.0, 1, 4.0),\n",
       " ('55', '34', 3.0, 1, 3.0),\n",
       " ('55', '35', 2.0, 1, 2.0),\n",
       " ('55', '42', 4.0, 1, 4.0),\n",
       " ('55', '43', 3.0, 1, 3.0),\n",
       " ('55', '44', 2.0, 1, 2.0),\n",
       " ('55', '45', 1.0, 5, 5.0),\n",
       " ('55', '51', 4.0, 1, 4.0),\n",
       " ('55', '52', 3.0, 1, 3.0),\n",
       " ('55', '53', 2.0, 1, 2.0),\n",
       " ('55', '54', 1.0, 5, 5.0),\n",
       " ('55', '55', 0.0, 10, 0.0)]"
      ]
     },
     "execution_count": 32,
     "metadata": {},
     "output_type": "execute_result"
    }
   ],
   "source": [
    "Areas, Calls, Distances, Contiguity = Opt_Parameters(intensity_matrix4)\n",
    "PMed(Ar=Areas,Di=Distances,Co=Contiguity,Ca=Calls,Ta=2,In=0.2,Th=10)"
   ]
  },
  {
   "cell_type": "code",
   "execution_count": null,
   "metadata": {},
   "outputs": [],
   "source": []
  },
  {
   "cell_type": "markdown",
   "metadata": {},
   "source": [
    "## Ejemplos con las predicciones reales:\n",
    "\n",
    "(TODO)"
   ]
  },
  {
   "cell_type": "code",
   "execution_count": null,
   "metadata": {},
   "outputs": [],
   "source": []
  },
  {
   "cell_type": "code",
   "execution_count": null,
   "metadata": {},
   "outputs": [],
   "source": []
  }
 ],
 "metadata": {
  "@webio": {
   "lastCommId": null,
   "lastKernelId": null
  },
  "hide_input": false,
  "kernelspec": {
   "display_name": "Python 3",
   "language": "python",
   "name": "python3"
  },
  "language_info": {
   "codemirror_mode": {
    "name": "ipython",
    "version": 3
   },
   "file_extension": ".py",
   "mimetype": "text/x-python",
   "name": "python",
   "nbconvert_exporter": "python",
   "pygments_lexer": "ipython3",
   "version": "3.6.6"
  }
 },
 "nbformat": 4,
 "nbformat_minor": 2
}
