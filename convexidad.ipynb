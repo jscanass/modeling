{
 "cells": [
  {
   "cell_type": "markdown",
   "metadata": {},
   "source": [
    "# Revisar Convexidad:\n",
    "\n",
    "Se quiere ver que $$ f(X) = Tr(X^{-1})$$ es una función convexa, donde $X$ es una matriz definida positiva simétrica.\n",
    "\n",
    "Para eso usamos la [serie de Nuemann](https://en.wikipedia.org/wiki/Neumann_series) y el siguiente hecho: Una función $f$ dos veces diferenciable en un subconjunto abierto $U$ de un espacio vectorial $V$ es convexa si y solo si $$\\frac{d^2}{dt^2} f(u+tv)\\bigg\\rvert_{ t = 0} \\geq\t 0$$ Para toda $u \\in U$, $v \\in V$. Otros valores de $t$ (para los cuales $u+tv \\in U)$ corresponden a otras elecciones de $u$ cuando $t=0$. \n",
    "\n",
    "\n",
    "Sea $ S(t) = A + Bt$ donde  $A$ es definida positiva simétrica y $B$ es simétrica. Es suficiente ver que $$\\frac{d^2}{dt^2} Tr (S(t)^{-1})\\bigg\\rvert_{ t = 0} \\geq\t 0$$\n",
    "\n",
    "Entonces, $$S(t)^{-1}= (A+tB)^{−1} = (A(I+tA^{−1}−B))^{−1}= (I+tA^{−1}B)^{−1}A^{−1} = A^{−1}−tA^{−1}BA^{−1}+t^{2}A^{−1}BA^{−1}BA^{−1} + ...$$\n",
    "\n",
    "Derivamos dos veces con respecto a $t$ la última expresión y evaluamos cuando $t=0$,\n",
    "\n",
    "$$\\frac{d^2}{dt^2} Tr (S(t)^{-1})\\bigg\\rvert_{ t = 0}=  Tr (2A^{−1}BA^{−1}BA^{−1} - 6t A^{−1}BA^{−1}BA^{−1}BA^{−1}+...)\\bigg\\rvert_{ t = 0} = 2Tr(A^{−1}BA^{−1} BA^{−1} )$$\n",
    "\n",
    "Como $A^{−1}BA^{−1}BA^{−1} = CA^{−1}C^{T}$ donde $C=A^{−1}B$  y $A^{−1}$ es definida positiva, entonces $CA^{−1}C^{T}$ es semidefinida positiva. De lo anterior tenemos que $Tr(CA^{−1}C^{T}) \\geq 0$. Se concluye que $ f(X) = Tr(X^{-1})$ es convexa.\n",
    "\n",
    "El siguiente programa también evalua si la función puede no ser convexa. Basta variar el n (tamaño de la matriz cuadrada) y max_value (valor máximo de alguna entrada de la matriz). Para ejecutar la función en línea puede usarse [Binder](https://gke.mybinder.org/).\n"
   ]
  },
  {
   "cell_type": "code",
   "execution_count": 5,
   "metadata": {},
   "outputs": [],
   "source": [
    "import numpy as np\n",
    "from numpy.linalg import inv\n",
    "from scipy import random, linalg\n",
    "import matplotlib.pyplot as plt"
   ]
  },
  {
   "cell_type": "code",
   "execution_count": 25,
   "metadata": {},
   "outputs": [],
   "source": [
    "def symm_m(n,max_value):\n",
    "    b = np.random.randint(0,max_value,size=(n,n))\n",
    "    b_symm = (b + b.T)/2\n",
    "    return b_symm\n",
    "\n",
    "def f (t):\n",
    "    return np.trace(((inv(A+(t*B)))))"
   ]
  },
  {
   "cell_type": "code",
   "execution_count": 38,
   "metadata": {},
   "outputs": [
    {
     "data": {
      "image/png": "[encoded data removed]",
      "text/plain": [
       "<Figure size 432x288 with 1 Axes>"
      ]
     },
     "metadata": {
      "needs_background": "light"
     },
     "output_type": "display_data"
    },
    {
     "name": "stdout",
     "output_type": "stream",
     "text": [
      "CPU times: user 8.13 s, sys: 11.5 s, total: 19.6 s\n",
      "Wall time: 1.96 s\n"
     ]
    }
   ],
   "source": [
    "%%time\n",
    "\n",
    "n = 10\n",
    "max_value = 100000\n",
    "\n",
    "B = symm_m(n,max_value)\n",
    "V = symm_m(n,max_value)\n",
    "A = np.dot(V,V.transpose())\n",
    "t = np.arange(1,n+1,1)\n",
    "f = np.vectorize(f)\n",
    "\n",
    "plt.plot(t, f(t))\n",
    "plt.show()"
   ]
  },
  {
   "cell_type": "markdown",
   "metadata": {},
   "source": [
    "La demostración está basada en [esta](https://math.stackexchange.com/questions/297635/is-the-trace-of-inverse-matrix-convex) demostración de Robert Israel."
   ]
  }
 ],
 "metadata": {
  "kernelspec": {
   "display_name": "optimization",
   "language": "python",
   "name": "optimization"
  },
  "language_info": {
   "codemirror_mode": {
    "name": "ipython",
    "version": 3
   },
   "file_extension": ".py",
   "mimetype": "text/x-python",
   "name": "python",
   "nbconvert_exporter": "python",
   "pygments_lexer": "ipython3",
   "version": "3.6.7"
  }
 },
 "nbformat": 4,
 "nbformat_minor": 2
}
